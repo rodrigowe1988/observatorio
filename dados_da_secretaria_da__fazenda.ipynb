{
  "nbformat": 4,
  "nbformat_minor": 0,
  "metadata": {
    "colab": {
      "name": "dados_da_secretaria_da _fazenda.ipynb",
      "provenance": [],
      "toc_visible": true,
      "authorship_tag": "ABX9TyP9agQpXl3VyGdHZzP9vr/b",
      "include_colab_link": true
    },
    "kernelspec": {
      "name": "python3",
      "display_name": "Python 3"
    },
    "language_info": {
      "name": "python"
    }
  },
  "cells": [
    {
      "cell_type": "markdown",
      "metadata": {
        "id": "view-in-github",
        "colab_type": "text"
      },
      "source": [
        "<a href=\"https://colab.research.google.com/github/rodrigowe1988/observatorio/blob/master/dados_da_secretaria_da__fazenda.ipynb\" target=\"_parent\"><img src=\"https://colab.research.google.com/assets/colab-badge.svg\" alt=\"Open In Colab\"/></a>"
      ]
    },
    {
      "cell_type": "code",
      "metadata": {
        "id": "Abm_CiA5MnXo"
      },
      "source": [
        "import pandas as pd"
      ],
      "execution_count": null,
      "outputs": []
    },
    {
      "cell_type": "markdown",
      "metadata": {
        "id": "N4pu8AIXHbXN"
      },
      "source": [
        "#Dados da Secretaria da Fazenda\n",
        "\n"
      ]
    },
    {
      "cell_type": "code",
      "metadata": {
        "id": "8yWLhdQ5UZcu"
      },
      "source": [
        "#importando o arquivo para manipular os dados\n",
        "df = pd.read_csv('/content/FIESC 2017 anual por UF ncm4 cnae3 cfop2.csv', error_bad_lines=False, delimiter=';')"
      ],
      "execution_count": null,
      "outputs": []
    },
    {
      "cell_type": "code",
      "metadata": {
        "id": "qup9x6gWWI6M",
        "colab": {
          "base_uri": "https://localhost:8080/",
          "height": 224
        },
        "outputId": "e92e752d-c1a0-436a-d781-5ff1b2dc9ee8"
      },
      "source": [
        "df.head()"
      ],
      "execution_count": null,
      "outputs": [
        {
          "output_type": "execute_result",
          "data": {
            "text/html": [
              "<div>\n",
              "<style scoped>\n",
              "    .dataframe tbody tr th:only-of-type {\n",
              "        vertical-align: middle;\n",
              "    }\n",
              "\n",
              "    .dataframe tbody tr th {\n",
              "        vertical-align: top;\n",
              "    }\n",
              "\n",
              "    .dataframe thead th {\n",
              "        text-align: right;\n",
              "    }\n",
              "</style>\n",
              "<table border=\"1\" class=\"dataframe\">\n",
              "  <thead>\n",
              "    <tr style=\"text-align: right;\">\n",
              "      <th></th>\n",
              "      <th>TRUNC(T.CNAE_EMIT/10000)</th>\n",
              "      <th>CD_UF_EMIT</th>\n",
              "      <th>TRUNC(T.CNAE_DEST/10000)</th>\n",
              "      <th>CD_UF_DEST</th>\n",
              "      <th>TRUNC(T.CD_CFOP_PRODUTO/100)</th>\n",
              "      <th>SUBSTR(T.CD_NCM_PRODUTO,1,4)</th>\n",
              "      <th>SUM(T.VLR_PROD)</th>\n",
              "      <th>SUM(T.VLR_ICMS)</th>\n",
              "      <th>SUM(T.VLR_IPI)</th>\n",
              "      <th>COUNT(*)</th>\n",
              "    </tr>\n",
              "  </thead>\n",
              "  <tbody>\n",
              "    <tr>\n",
              "      <th>0</th>\n",
              "      <td>471.0</td>\n",
              "      <td>SC</td>\n",
              "      <td>231.0</td>\n",
              "      <td>SC</td>\n",
              "      <td>59</td>\n",
              "      <td>2106</td>\n",
              "      <td>166,29</td>\n",
              "      <td>25,49</td>\n",
              "      <td>0</td>\n",
              "      <td>15</td>\n",
              "    </tr>\n",
              "    <tr>\n",
              "      <th>1</th>\n",
              "      <td>463.0</td>\n",
              "      <td>SC</td>\n",
              "      <td>561.0</td>\n",
              "      <td>SC</td>\n",
              "      <td>51</td>\n",
              "      <td>1106</td>\n",
              "      <td>2237415,25</td>\n",
              "      <td>170951,14</td>\n",
              "      <td>0</td>\n",
              "      <td>23556</td>\n",
              "    </tr>\n",
              "    <tr>\n",
              "      <th>2</th>\n",
              "      <td>464.0</td>\n",
              "      <td>SC</td>\n",
              "      <td>477.0</td>\n",
              "      <td>SC</td>\n",
              "      <td>54</td>\n",
              "      <td>3401</td>\n",
              "      <td>39954102,19</td>\n",
              "      <td>350906,72</td>\n",
              "      <td>25559,09</td>\n",
              "      <td>232911</td>\n",
              "    </tr>\n",
              "    <tr>\n",
              "      <th>3</th>\n",
              "      <td>463.0</td>\n",
              "      <td>SC</td>\n",
              "      <td>471.0</td>\n",
              "      <td>SC</td>\n",
              "      <td>51</td>\n",
              "      <td>4015</td>\n",
              "      <td>954883,99</td>\n",
              "      <td>60496,78</td>\n",
              "      <td>0</td>\n",
              "      <td>5396</td>\n",
              "    </tr>\n",
              "    <tr>\n",
              "      <th>4</th>\n",
              "      <td>467.0</td>\n",
              "      <td>SC</td>\n",
              "      <td>469.0</td>\n",
              "      <td>SC</td>\n",
              "      <td>54</td>\n",
              "      <td>8481</td>\n",
              "      <td>49350,85</td>\n",
              "      <td>NaN</td>\n",
              "      <td>0</td>\n",
              "      <td>447</td>\n",
              "    </tr>\n",
              "  </tbody>\n",
              "</table>\n",
              "</div>"
            ],
            "text/plain": [
              "   TRUNC(T.CNAE_EMIT/10000) CD_UF_EMIT  ...  SUM(T.VLR_IPI) COUNT(*)\n",
              "0                     471.0         SC  ...               0       15\n",
              "1                     463.0         SC  ...               0    23556\n",
              "2                     464.0         SC  ...        25559,09   232911\n",
              "3                     463.0         SC  ...               0     5396\n",
              "4                     467.0         SC  ...               0      447\n",
              "\n",
              "[5 rows x 10 columns]"
            ]
          },
          "metadata": {
            "tags": []
          },
          "execution_count": 12
        }
      ]
    },
    {
      "cell_type": "code",
      "metadata": {
        "id": "nLoYyHmjIedK",
        "colab": {
          "base_uri": "https://localhost:8080/"
        },
        "outputId": "8695879a-75c7-46d1-947c-f64ad86c9d28"
      },
      "source": [
        "print(f'Esse dataframe possui {df.shape[0]} linhas e {df.shape[1]} colunas')"
      ],
      "execution_count": null,
      "outputs": [
        {
          "output_type": "stream",
          "text": [
            "Esse dataframe possui 1646769 linhas e 10 colunas\n"
          ],
          "name": "stdout"
        }
      ]
    },
    {
      "cell_type": "code",
      "metadata": {
        "colab": {
          "base_uri": "https://localhost:8080/",
          "height": 204
        },
        "id": "rqd0PkHzq5rQ",
        "outputId": "d32c2e47-f394-4897-c82b-65523bc960d0"
      },
      "source": [
        "#tipos das variáveis do dataframe\n",
        "display(df.dtypes)"
      ],
      "execution_count": null,
      "outputs": [
        {
          "output_type": "display_data",
          "data": {
            "text/plain": [
              "TRUNC(T.CNAE_EMIT/10000)        float64\n",
              "CD_UF_EMIT                       object\n",
              "TRUNC(T.CNAE_DEST/10000)        float64\n",
              "CD_UF_DEST                       object\n",
              "TRUNC(T.CD_CFOP_PRODUTO/100)      int64\n",
              "SUBSTR(T.CD_NCM_PRODUTO,1,4)      int64\n",
              "SUM(T.VLR_PROD)                  object\n",
              "SUM(T.VLR_ICMS)                  object\n",
              "SUM(T.VLR_IPI)                   object\n",
              "COUNT(*)                          int64\n",
              "dtype: object"
            ]
          },
          "metadata": {
            "tags": []
          }
        }
      ]
    },
    {
      "cell_type": "code",
      "metadata": {
        "colab": {
          "base_uri": "https://localhost:8080/"
        },
        "id": "_l3hAqzzq5dy",
        "outputId": "7daac48a-4ea9-48a5-bf12-2b5f04efa1fa"
      },
      "source": [
        "print('Dados faltantes em cada uma das variáveis do dataframe:')\n",
        "(df.isnull().sum() / df.shape[0]).sort_values(ascending=False) * 100"
      ],
      "execution_count": null,
      "outputs": [
        {
          "output_type": "stream",
          "text": [
            "Dados faltantes em cada uma das variáveis do dataframe:\n"
          ],
          "name": "stdout"
        },
        {
          "output_type": "execute_result",
          "data": {
            "text/plain": [
              "SUM(T.VLR_IPI)                  39.959096\n",
              "SUM(T.VLR_ICMS)                 38.456335\n",
              "TRUNC(T.CNAE_EMIT/10000)        20.055575\n",
              "TRUNC(T.CNAE_DEST/10000)        16.989086\n",
              "COUNT(*)                         0.000000\n",
              "SUM(T.VLR_PROD)                  0.000000\n",
              "SUBSTR(T.CD_NCM_PRODUTO,1,4)     0.000000\n",
              "TRUNC(T.CD_CFOP_PRODUTO/100)     0.000000\n",
              "CD_UF_DEST                       0.000000\n",
              "CD_UF_EMIT                       0.000000\n",
              "dtype: float64"
            ]
          },
          "metadata": {
            "tags": []
          },
          "execution_count": 18
        }
      ]
    },
    {
      "cell_type": "code",
      "metadata": {
        "colab": {
          "base_uri": "https://localhost:8080/",
          "height": 621
        },
        "id": "jMBAxQh7rMF6",
        "outputId": "c11f8ee0-ffa2-4850-83bd-7342922e0d5b"
      },
      "source": [
        "df.hist(bins=15, figsize=(15, 10));"
      ],
      "execution_count": null,
      "outputs": [
        {
          "output_type": "display_data",
          "data": {
            "image/png": "[encoded data removed]",
            "text/plain": [
              "<Figure size 1080x720 with 6 Axes>"
            ]
          },
          "metadata": {
            "tags": [],
            "needs_background": "light"
          }
        }
      ]
    },
    {
      "cell_type": "code",
      "metadata": {
        "id": "PsYIZPELspKp"
      },
      "source": [
        ""
      ],
      "execution_count": null,
      "outputs": []
    }
  ]
}